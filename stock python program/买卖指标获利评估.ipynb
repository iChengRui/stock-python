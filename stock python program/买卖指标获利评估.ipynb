{
 "metadata": {
  "name": "",
  "signature": "sha256:73a73287b6b5ea4d3d6487e1990612030b82b26e4172736b3029cbfb3a209798"
 },
 "nbformat": 3,
 "nbformat_minor": 0,
 "worksheets": [
  {
   "cells": [
    {
     "cell_type": "code",
     "collapsed": false,
     "input": [
      "import pandas as pd\n",
      "import numpy as np\n",
      "import pymysql as psql\n",
      "conn=psql.connect(host='localhost',user='root',password='krvd#l6',port=3306,database='stock',charset='utf8')\n",
      "cursor=conn.cursor()"
     ],
     "language": "python",
     "metadata": {},
     "outputs": []
    },
    {
     "cell_type": "code",
     "collapsed": false,
     "input": [
      "Queshi=[]\n",
      "stockDict=dict()"
     ],
     "language": "python",
     "metadata": {},
     "outputs": []
    },
    {
     "cell_type": "code",
     "collapsed": false,
     "input": [
      "def get_huoli(np_buy,np_sell):\n",
      "    buy_len=len(np_buy)\n",
      "    sell_len=len(np_sell)\n",
      "    shouyi=[]\n",
      "    yuanyin=[]\n",
      "    i,j=0,0\n",
      "    while(i<buy_len and j<sell_len):\n",
      "        if(np_sell[j,0]>np_buy[i,0]):\n",
      "            yuanyin.append(np_buy[i,1])\n",
      "            shouyi.append(np_sell[j,1]/np_buy[i,2]-1.02)\n",
      "            i+=1\n",
      "        else:\n",
      "            j+=1    \n",
      "    return (pd.DataFrame({'yuanyin':yuanyin,'shouyi':shouyi}), buy_len-i)"
     ],
     "language": "python",
     "metadata": {},
     "outputs": []
    },
    {
     "cell_type": "code",
     "collapsed": false,
     "input": [
      "#\u6d4b\u8bd5\u53ef\u6dfb\u52a0\uff1alimit 3\n",
      "stockcount=cursor.execute(\"select stockname from XuanZe\")\n",
      "stocklist=cursor.fetchall()"
     ],
     "language": "python",
     "metadata": {},
     "outputs": []
    },
    {
     "cell_type": "code",
     "collapsed": false,
     "input": [
      "i=0\n",
      "while(i<stockcount):\n",
      "    QueryStr=\"create temporary table Mairu select riqi,yuanyin from MaiRuBiao where stockname='\" + stocklist[i][0] + \"' order by riqi\"\n",
      "    cursor.execute(QueryStr)\n",
      "    QueryStr=\"select Mairu.riqi,yuanyin,shoupanjia from Mairu left join \"+stocklist[i][0] +\\\n",
      "    \" on Mairu.riqi=\" + stocklist[i][0] + \".riqi order by Mairu.riqi\"\n",
      "    cursor.execute(QueryStr)\n",
      "    np_buy=np.array(cursor.fetchall())\n",
      "    QueryStr=\"drop table Mairu\"\n",
      "    cursor.execute(QueryStr)\n",
      "    QueryStr=\"create temporary table Maichu select distinct riqi from MaiChuBiao where stockname='\" + stocklist[i][0] + \"' order by riqi\"\n",
      "    cursor.execute(QueryStr)\n",
      "    QueryStr=\"select Maichu.riqi,shoupanjia from Maichu left join \"+\\\n",
      "    stocklist[i][0] +\" on Maichu.riqi=\" + stocklist[i][0] + \".riqi order by Maichu.riqi\"\n",
      "    cursor.execute(QueryStr)\n",
      "    np_sell=np.array(cursor.fetchall())\n",
      "    QueryStr=\"drop table Maichu\"\n",
      "    cursor.execute(QueryStr)\n",
      "    Pdhuoli,jianshao=get_huoli(np_buy,np_sell)\n",
      "    Queshi.append(jianshao)\n",
      "    stockDict[stocklist[i][0]]=Pdhuoli\n",
      "    i+=1"
     ],
     "language": "python",
     "metadata": {},
     "outputs": []
    },
    {
     "cell_type": "code",
     "collapsed": false,
     "input": [
      "#\u7edf\u8ba1\u6240\u6709\u7684\u4e70\u5165\u539f\u56e0\u53ca\u6536\u76ca\n",
      "AllYuanyinShouyi=pd.DataFrame()\n",
      "for key in stockDict:\n",
      "    AllYuanyinShouyi=AllYuanyinShouyi.append(stockDict[key],ignore_index=True)"
     ],
     "language": "python",
     "metadata": {},
     "outputs": []
    },
    {
     "cell_type": "code",
     "collapsed": false,
     "input": [
      "m=AllYuanyinShouyi.groupby('yuanyin').describe().unstack()\n",
      "print m"
     ],
     "language": "python",
     "metadata": {},
     "outputs": []
    }
   ],
   "metadata": {}
  }
 ]
}