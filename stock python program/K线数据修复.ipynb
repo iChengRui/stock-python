{
 "metadata": {
  "name": "",
  "signature": "sha256:cf4aefcc1b18a95ba1fa9197767bae1649f62488de61e5feb4a72f27569ae30f"
 },
 "nbformat": 3,
 "nbformat_minor": 0,
 "worksheets": [
  {
   "cells": [
    {
     "cell_type": "code",
     "collapsed": false,
     "input": [
      "import tushare as ts\n",
      "B=ts.get_k_data('600660',start='2017-10-25',end='2017-11-07',ktype='D',autype='qfq')\n",
      "A#\u4ef7\u683c\u4e3a\u524d\u590d\u6743\u6570\u636e\uff0c\u7c7b\u578b\u4e3apandas\u6570\u636e\u7c7b\u578b\uff0c\u6210\u4ea4\u91cf\u5e76\u672a\u590d\u6743\uff0c`\n",
      "A=ts.get_k_data('603328',start='2017-06-02',end='2017-06-17',ktype='D',autype='qfq')\n",
      "Alen=len(A)-1\n",
      "A.volume*=200\n",
      "with open('/home/acer/update603328','w') as f:\n",
      "    while (Alen>-1):\n",
      "        f.write(\"update SH603328 set kaipanjia=\"+str(A.open.values[Alen])+\",shoupanjia=\"+str(A.close.values[Alen])+\",zuigaojia=\"\n",
      "                +str(A.high.values[Alen])+\",zuidijia=\"+str(A.low.values[Alen])+\",chengjiaoliang=\"+str(A.volume.values[Alen])+\n",
      "                \",h\"+\"where riqi='\"+str(A.date.values[Alen])+\"';\\n\")\n",
      "        Alen-=1\n",
      "print(A)\n"
     ],
     "language": "python",
     "metadata": {},
     "outputs": []
    },
    {
     "cell_type": "code",
     "collapsed": false,
     "input": [
      "#\u8865\u5145\u5c5e\u6027\n",
      "import tushare as ts\n",
      "for dy in ['2018-02-12','2018-02-13','2018-02-14','2018-02-22']:\n",
      "    path='/home/acer/\u540e\u590d\u6743'+dy\n",
      "    with open (path,'w') as f:\n",
      "        for stockcode in a:\n",
      "            info=ts.get_k_data(stockcode[0:6],start=dy,end=dy,ktype='D',autype='hfq')\n",
      "            if len(info)>0:\n",
      "                if (stockcode[0]=='6'):\n",
      "                    tag='SH'\n",
      "                else:\n",
      "                    tag='SZ'\n",
      "                f.write(tag+stockcode[0:6]+\" \"+str(info.close.values[0])+\"\\n\")\n"
     ],
     "language": "python",
     "metadata": {},
     "outputs": []
    },
    {
     "cell_type": "code",
     "collapsed": false,
     "input": [
      "#\u83b7\u53d6\u67d0\u65e5\u6240\u6709\u80a1\u7968\u7684\u5c5e\u6027\n",
      "import tushare as ts\n",
      "with open('/home/acer/\u80a1\u7968\u6c60.csv','r') as pol:\n",
      "    a=pol.readlines()\n",
      "    \n",
      "for dy in ['2018-03-19']:\n",
      "    path='/home/acer/'+dy\n",
      "    with open (path,'w') as f:\n",
      "        for stockcode in a:\n",
      "            info=ts.get_k_data(stockcode[0:6],start=dy,end=dy,ktype='D',autype='qfq')\n",
      "            info2=ts.get_k_data(stockcode[0:6],start=dy,end=dy,ktype='D',autype='hfq')\n",
      "            if len(info)>0 and len(info2)>0 :\n",
      "                if (stockcode[0]=='6'):\n",
      "                    tag='SH'\n",
      "                else:\n",
      "                    tag='SZ'\n",
      "                f.write(tag+stockcode[0:6]+\" \"+str(info.close.values[0])+\" \"+str(info.open.values[0])+\\\n",
      "                        \" \"+str(info.high.values[0])+\" \"+str(info.low.values[0])+\" \"+str(info.volume.values[0])+\" \"+\n",
      "                        str(info2.close.values[0])+\"\\n\")\n"
     ],
     "language": "python",
     "metadata": {},
     "outputs": []
    },
    {
     "cell_type": "code",
     "collapsed": false,
     "input": [
      "import subprocess\n",
      "import pymysql.cursors\n",
      "\n",
      "conn=pymysql.connect(host='localhost',user='root',password='krvd#l6',\n",
      "                     port=3306,database='stock',charset='utf8',\n",
      "                     cursorclass=pymysql.cursors.DictCursor)\n",
      "cur=conn.cursor()"
     ],
     "language": "python",
     "metadata": {},
     "outputs": [],
     "prompt_number": 2
    },
    {
     "cell_type": "code",
     "collapsed": false,
     "input": [
      "path=\"/home/acer/2018-03-\"\n",
      "for dat in [\"19\"]:\n",
      "    pafl=path+dat\n",
      "    with open(pafl,'r') as f:\n",
      "        flAll=f.read()\n",
      "    flAll=flAll.splitlines()\n",
      "    for lin in flAll[1:]:\n",
      "        #\u73b0\u4ef7\t\u5f00\u76d8\t\u6700\u9ad8\t\u6700\u4f4e\t\u603b\u624b\t\u6536\u76d8\u4ef7:\u540e\u590d\u6743\n",
      "        #1    2     3    4     5    6\n",
      "        wd=lin.split()\n",
      "        if '--' not in wd and len(wd)>0 :\n",
      "            Querystr=\"insert \"+wd[0]+\" value('\"+\"2018-3-\"+dat+\"',\"+wd[2]+\",\"+wd[1]+\",\"+wd[3]+\",\"+wd[4]+\",\"+wd[5]+\",\"+wd[6]+\")\"\n",
      "            cur.execute(Querystr)\n",
      "    conn.commit()\n",
      "    subprocess.check_call(['/home/acer/\u684c\u9762/stock program/sell4-\u7f3a\u5931\u65e5\u671f\u6570\u636e\u56de\u8865','-auto','2018','3',dat])\n",
      "    subprocess.check_call(['/home/acer/\u684c\u9762/stock program/Qushi-Buy-\u7f3a\u5931\u65e5\u671f\u6570\u636e\u56de\u8865','-auto','2018','3',dat])"
     ],
     "language": "python",
     "metadata": {},
     "outputs": [],
     "prompt_number": 11
    },
    {
     "cell_type": "code",
     "collapsed": false,
     "input": [
      "a[0][0]"
     ],
     "language": "python",
     "metadata": {},
     "outputs": [
      {
       "metadata": {},
       "output_type": "pyout",
       "prompt_number": 7,
       "text": [
        "'6'"
       ]
      }
     ],
     "prompt_number": 7
    },
    {
     "cell_type": "code",
     "collapsed": false,
     "input": [
      "with open('/home/acer/\u80a1\u7968\u6c60.csv','r') as pol:\n",
      "    a=pol.readlines()\n",
      "for stockcode in a:\n",
      "    if stockcode[0]=='6':\n",
      "        tag=\"SH\"\n",
      "    else:\n",
      "        tag=\"SZ\"  \n",
      "    QueryStr=\"delete from \"+tag+stockcode[0:6] +\" where riqi='2018-2-19'\"\n",
      "    cur.execute(QueryStr)\n",
      "conn.commit()"
     ],
     "language": "python",
     "metadata": {},
     "outputs": [],
     "prompt_number": 9
    },
    {
     "cell_type": "code",
     "collapsed": false,
     "input": [
      "subprocess.check_call(['/home/acer/\u684c\u9762/stock program/sell4-\u7f3a\u5931\u65e5\u671f\u6570\u636e\u56de\u8865','-auto','2018','3',dat])\n",
      "subprocess.check_call(['/home/acer/\u684c\u9762/stock program/Qushi-Buy-\u7f3a\u5931\u65e5\u671f\u6570\u636e\u56de\u8865','-auto','2018','3',dat])"
     ],
     "language": "python",
     "metadata": {},
     "outputs": [
      {
       "ename": "CalledProcessError",
       "evalue": "Command '['/home/acer/\\xe6\\xa1\\x8c\\xe9\\x9d\\xa2/stock program/sell4-\\xe7\\xbc\\xba\\xe5\\xa4\\xb1\\xe6\\x97\\xa5\\xe6\\x9c\\x9f\\xe6\\x95\\xb0\\xe6\\x8d\\xae\\xe5\\x9b\\x9e\\xe8\\xa1\\xa5', '-auto', '2018', '3', '19']' returned non-zero exit status -11",
       "output_type": "pyerr",
       "traceback": [
        "\u001b[0;31m---------------------------------------------------------------------------\u001b[0m\n\u001b[0;31mCalledProcessError\u001b[0m                        Traceback (most recent call last)",
        "\u001b[0;32m<ipython-input-12-58eab98cdc0d>\u001b[0m in \u001b[0;36m<module>\u001b[0;34m()\u001b[0m\n\u001b[0;32m----> 1\u001b[0;31m \u001b[0msubprocess\u001b[0m\u001b[0;34m.\u001b[0m\u001b[0mcheck_call\u001b[0m\u001b[0;34m(\u001b[0m\u001b[0;34m[\u001b[0m\u001b[0;34m'/home/acer/\u684c\u9762/stock program/sell4-\u7f3a\u5931\u65e5\u671f\u6570\u636e\u56de\u8865'\u001b[0m\u001b[0;34m,\u001b[0m\u001b[0;34m'-auto'\u001b[0m\u001b[0;34m,\u001b[0m\u001b[0;34m'2018'\u001b[0m\u001b[0;34m,\u001b[0m\u001b[0;34m'3'\u001b[0m\u001b[0;34m,\u001b[0m\u001b[0mdat\u001b[0m\u001b[0;34m]\u001b[0m\u001b[0;34m)\u001b[0m\u001b[0;34m\u001b[0m\u001b[0m\n\u001b[0m\u001b[1;32m      2\u001b[0m \u001b[0msubprocess\u001b[0m\u001b[0;34m.\u001b[0m\u001b[0mcheck_call\u001b[0m\u001b[0;34m(\u001b[0m\u001b[0;34m[\u001b[0m\u001b[0;34m'/home/acer/\u684c\u9762/stock program/Qushi-Buy-\u7f3a\u5931\u65e5\u671f\u6570\u636e\u56de\u8865'\u001b[0m\u001b[0;34m,\u001b[0m\u001b[0;34m'-auto'\u001b[0m\u001b[0;34m,\u001b[0m\u001b[0;34m'2018'\u001b[0m\u001b[0;34m,\u001b[0m\u001b[0;34m'3'\u001b[0m\u001b[0;34m,\u001b[0m\u001b[0mdat\u001b[0m\u001b[0;34m]\u001b[0m\u001b[0;34m)\u001b[0m\u001b[0;34m\u001b[0m\u001b[0m\n",
        "\u001b[0;32m/usr/lib/python2.7/subprocess.pyc\u001b[0m in \u001b[0;36mcheck_call\u001b[0;34m(*popenargs, **kwargs)\u001b[0m\n\u001b[1;32m    539\u001b[0m         \u001b[0;32mif\u001b[0m \u001b[0mcmd\u001b[0m \u001b[0;32mis\u001b[0m \u001b[0mNone\u001b[0m\u001b[0;34m:\u001b[0m\u001b[0;34m\u001b[0m\u001b[0m\n\u001b[1;32m    540\u001b[0m             \u001b[0mcmd\u001b[0m \u001b[0;34m=\u001b[0m \u001b[0mpopenargs\u001b[0m\u001b[0;34m[\u001b[0m\u001b[0;36m0\u001b[0m\u001b[0;34m]\u001b[0m\u001b[0;34m\u001b[0m\u001b[0m\n\u001b[0;32m--> 541\u001b[0;31m         \u001b[0;32mraise\u001b[0m \u001b[0mCalledProcessError\u001b[0m\u001b[0;34m(\u001b[0m\u001b[0mretcode\u001b[0m\u001b[0;34m,\u001b[0m \u001b[0mcmd\u001b[0m\u001b[0;34m)\u001b[0m\u001b[0;34m\u001b[0m\u001b[0m\n\u001b[0m\u001b[1;32m    542\u001b[0m     \u001b[0;32mreturn\u001b[0m \u001b[0;36m0\u001b[0m\u001b[0;34m\u001b[0m\u001b[0m\n\u001b[1;32m    543\u001b[0m \u001b[0;34m\u001b[0m\u001b[0m\n",
        "\u001b[0;31mCalledProcessError\u001b[0m: Command '['/home/acer/\\xe6\\xa1\\x8c\\xe9\\x9d\\xa2/stock program/sell4-\\xe7\\xbc\\xba\\xe5\\xa4\\xb1\\xe6\\x97\\xa5\\xe6\\x9c\\x9f\\xe6\\x95\\xb0\\xe6\\x8d\\xae\\xe5\\x9b\\x9e\\xe8\\xa1\\xa5', '-auto', '2018', '3', '19']' returned non-zero exit status -11"
       ]
      }
     ],
     "prompt_number": 12
    },
    {
     "cell_type": "code",
     "collapsed": false,
     "input": [
      "t='/home/acer/\\xe6\\xa1\\x8c\\xe9\\x9d\\xa2/stock program/sell4-\\xe7\\xbc\\xba\\xe5\\xa4\\xb1\\xe6\\x97\\xa5\\xe6\\x9c\\x9f\\xe6\\x95\\xb0\\xe6\\x8d\\xae\\xe5\\x9b\\x9e\\xe8\\xa1\\xa5'"
     ],
     "language": "python",
     "metadata": {},
     "outputs": [],
     "prompt_number": 15
    },
    {
     "cell_type": "code",
     "collapsed": false,
     "input": [
      "print t"
     ],
     "language": "python",
     "metadata": {},
     "outputs": [
      {
       "output_type": "stream",
       "stream": "stdout",
       "text": [
        "/home/acer/\u684c\u9762/stock program/sell4-\u7f3a\u5931\u65e5\u671f\u6570\u636e\u56de\u8865\n"
       ]
      }
     ],
     "prompt_number": 16
    }
   ],
   "metadata": {}
  }
 ]
}